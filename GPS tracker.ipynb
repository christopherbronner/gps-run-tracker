{
 "cells": [
  {
   "cell_type": "markdown",
   "metadata": {},
   "source": [
    "# GPS Tracker\n",
    "\n",
    "This program reads a gpx file containing a series of waypoints (time, latitude, longitude, elevation) in xml format. Since I wrote the program to evaluate gpx files of runs (recorded with the Runkeeper app), each gpx track will be refered to as a <i>run</i> and some of the nomenclature was chosen with that in mind. The program then extracts some metrics of the run:\n",
    "<ul>\n",
    "    <li>Total distance</li>\n",
    "    <li>Total time</li>\n",
    "    <li>Average pace</li>\n",
    "    <li>Total climb</li>\n",
    "</ul>\n",
    "Additionally, the program will make a series of plots to visualize the run:\n",
    "<ul>\n",
    "    <li>Elevation profile</li>\n",
    "    <li>Pace over time</li>\n",
    "    <li>Map with elevation colorcode</li>\n",
    "    <li>Map with pace colorcode</li>\n",
    "</ul>\n",
    "First, we import some modules:"
   ]
  },
  {
   "cell_type": "code",
   "execution_count": 1,
   "metadata": {
    "collapsed": true
   },
   "outputs": [],
   "source": [
    "import pandas as pd\n",
    "import numpy as np\n",
    "import gpxpy\n",
    "import gpxpy.gpx\n",
    "import geopy.distance\n",
    "from time import strftime\n",
    "import matplotlib.pyplot as plt\n",
    "import copy\n",
    "from matplotlib.cm import terrain # import color map\n",
    "from matplotlib.cm import cool # import color map\n",
    "import ipyleaflet as lf"
   ]
  },
  {
   "cell_type": "markdown",
   "metadata": {},
   "source": [
    "## Loading gpx file\n",
    "The function load_run_to_df(filename) uses the the <b>gpxpy</b> module to read the specified gpx file into a Pandas DataFrame with four columns (time, latitude, longitude, elevation). It then adds a fifth column with the accumulated distance (which is calculated using the <b>geopy</b> module. The DataFrame with five columns is returned."
   ]
  },
  {
   "cell_type": "code",
   "execution_count": 2,
   "metadata": {
    "collapsed": true
   },
   "outputs": [],
   "source": [
    "# Loads gpx file and returns data frame run\n",
    "def load_run_to_df(filename): \n",
    "    \n",
    "    # Load file into run_data using gpxpy\n",
    "    with open(filename) as f:\n",
    "        run_data = gpxpy.parse(f)\n",
    "    f.closed\n",
    "    \n",
    "    # Initialize DataFrames\n",
    "    df_dict = {'time': [],'lat': [],'lon': [],'elev': []}\n",
    "    df = pd.DataFrame(df_dict)\n",
    "    \n",
    "    \n",
    "    # Create DataFrame containing time, latitude, longitude, elevation columns\n",
    "    for track in run_data.tracks:\n",
    "        for segment in track.segments:\n",
    "            for point in segment.points:\n",
    "                df_newRow = pd.DataFrame([[point.time, point.latitude, point.longitude, point.elevation]], columns=['time','lat','lon','elev'])\n",
    "                df = df.append(df_newRow, ignore_index=True)\n",
    "                \n",
    "    # Create additional column for accumulative distance\n",
    "    tmp = [0]\n",
    "    for i, row in df[1:].iterrows():\n",
    "        prevCoord = (df.iloc[i-1]['lat'],df.iloc[i-1]['lon'])\n",
    "        currCoord = (df.iloc[i]['lat'],df.iloc[i]['lon'])\n",
    "        tmp.append(tmp[-1] + geopy.distance.vincenty(prevCoord, currCoord).mi)\n",
    "    df['accuDist']=tmp\n",
    "    \n",
    "    return df"
   ]
  },
  {
   "cell_type": "code",
   "execution_count": 3,
   "metadata": {},
   "outputs": [
    {
     "data": {
      "text/html": [
       "<div>\n",
       "<style>\n",
       "    .dataframe thead tr:only-child th {\n",
       "        text-align: right;\n",
       "    }\n",
       "\n",
       "    .dataframe thead th {\n",
       "        text-align: left;\n",
       "    }\n",
       "\n",
       "    .dataframe tbody tr th {\n",
       "        vertical-align: top;\n",
       "    }\n",
       "</style>\n",
       "<table border=\"1\" class=\"dataframe\">\n",
       "  <thead>\n",
       "    <tr style=\"text-align: right;\">\n",
       "      <th></th>\n",
       "      <th>elev</th>\n",
       "      <th>lat</th>\n",
       "      <th>lon</th>\n",
       "      <th>time</th>\n",
       "      <th>accuDist</th>\n",
       "    </tr>\n",
       "  </thead>\n",
       "  <tbody>\n",
       "    <tr>\n",
       "      <th>0</th>\n",
       "      <td>150.0</td>\n",
       "      <td>37.682118</td>\n",
       "      <td>-121.768362</td>\n",
       "      <td>2018-03-04 15:00:16</td>\n",
       "      <td>0.000000</td>\n",
       "    </tr>\n",
       "    <tr>\n",
       "      <th>1</th>\n",
       "      <td>149.9</td>\n",
       "      <td>37.682194</td>\n",
       "      <td>-121.768297</td>\n",
       "      <td>2018-03-04 15:00:19</td>\n",
       "      <td>0.006338</td>\n",
       "    </tr>\n",
       "    <tr>\n",
       "      <th>2</th>\n",
       "      <td>149.9</td>\n",
       "      <td>37.682286</td>\n",
       "      <td>-121.768219</td>\n",
       "      <td>2018-03-04 15:00:24</td>\n",
       "      <td>0.013988</td>\n",
       "    </tr>\n",
       "    <tr>\n",
       "      <th>3</th>\n",
       "      <td>149.9</td>\n",
       "      <td>37.682363</td>\n",
       "      <td>-121.768146</td>\n",
       "      <td>2018-03-04 15:00:28</td>\n",
       "      <td>0.020638</td>\n",
       "    </tr>\n",
       "    <tr>\n",
       "      <th>4</th>\n",
       "      <td>149.9</td>\n",
       "      <td>37.682440</td>\n",
       "      <td>-121.768042</td>\n",
       "      <td>2018-03-04 15:00:32</td>\n",
       "      <td>0.028428</td>\n",
       "    </tr>\n",
       "  </tbody>\n",
       "</table>\n",
       "</div>"
      ],
      "text/plain": [
       "    elev        lat         lon                time  accuDist\n",
       "0  150.0  37.682118 -121.768362 2018-03-04 15:00:16  0.000000\n",
       "1  149.9  37.682194 -121.768297 2018-03-04 15:00:19  0.006338\n",
       "2  149.9  37.682286 -121.768219 2018-03-04 15:00:24  0.013988\n",
       "3  149.9  37.682363 -121.768146 2018-03-04 15:00:28  0.020638\n",
       "4  149.9  37.682440 -121.768042 2018-03-04 15:00:32  0.028428"
      ]
     },
     "execution_count": 3,
     "metadata": {},
     "output_type": "execute_result"
    }
   ],
   "source": [
    "df = load_run_to_df('2018-03-04-070016.gpx')\n",
    "df.head()"
   ]
  },
  {
   "cell_type": "markdown",
   "metadata": {},
   "source": [
    "## Extract run metrics\n",
    "Having already calculated the accumulated distance for each point when we loaded the file, it is straighforward to read the total distance off the last entry of the DataFrame."
   ]
  },
  {
   "cell_type": "code",
   "execution_count": 4,
   "metadata": {},
   "outputs": [
    {
     "name": "stdout",
     "output_type": "stream",
     "text": [
      "Total distance: \t13.23 mi\n"
     ]
    }
   ],
   "source": [
    "# Calculate total distance of this run\n",
    "total_distance = df.iloc[-1]['accuDist']    \n",
    "print('Total distance: \\t%.2f mi' % total_distance)"
   ]
  },
  {
   "cell_type": "markdown",
   "metadata": {},
   "source": [
    "The total time is taken from the difference of the first and last timestamps. The resulting timedelta object is converted to a formatted string using the function strfdelta."
   ]
  },
  {
   "cell_type": "code",
   "execution_count": 5,
   "metadata": {},
   "outputs": [
    {
     "name": "stdout",
     "output_type": "stream",
     "text": [
      "Total time: \t1:38:17\n"
     ]
    }
   ],
   "source": [
    "# Calculate total time of this run\n",
    "def strfdelta(tdelta, fmt): # Reformats timedelta object to h:mm:ss\n",
    "    d = {\"days\": tdelta.days}\n",
    "    d[\"hours\"], rem = divmod(tdelta.seconds, 3600)\n",
    "    d[\"minutes\"], d[\"seconds\"] = divmod(rem, 60)\n",
    "    return fmt.format(**d)\n",
    "\n",
    "total_time = df.iloc[-1]['time']-df.iloc[0]['time'] # creates timedelta object\n",
    "\n",
    "print('Total time: \\t%s' % strfdelta(total_time, \"{hours}:{minutes}:{seconds}\"))"
   ]
  },
  {
   "cell_type": "markdown",
   "metadata": {},
   "source": [
    "The average pace is calculated from the above timedelta object and the total distance and formatted as min:sec per mile."
   ]
  },
  {
   "cell_type": "code",
   "execution_count": 6,
   "metadata": {},
   "outputs": [
    {
     "name": "stdout",
     "output_type": "stream",
     "text": [
      "Average pace: \t7:25 per mi\n"
     ]
    }
   ],
   "source": [
    "# Calculate average pace\n",
    "avg_pace = total_time.seconds / total_distance\n",
    "avg_pace_min, avg_pace_sec = divmod(avg_pace, 60)\n",
    "print('Average pace: \\t%d:%d per mi' % (avg_pace_min, avg_pace_sec))"
   ]
  },
  {
   "cell_type": "markdown",
   "metadata": {},
   "source": [
    "The total climb is the accumulated elevation difference of all intervals between two consecutive waypoints with a positive incline. That mean we are adding up the uphill elevation differences, but do not subtract downhill parts."
   ]
  },
  {
   "cell_type": "code",
   "execution_count": 7,
   "metadata": {},
   "outputs": [
    {
     "name": "stdout",
     "output_type": "stream",
     "text": [
      "Total climb: \t452.8\n"
     ]
    }
   ],
   "source": [
    "# Calculate total climb as sum of positive inclines between two waypoints\n",
    "total_climb=0\n",
    "for i, row in df[1:].iterrows():\n",
    "    height_difference = 3.28084*(df.iloc[i]['elev'] - df.iloc[i-1]['elev'])\n",
    "    if height_difference>0:\n",
    "        total_climb += height_difference\n",
    "\n",
    "print('Total climb: \\t%.1f' % total_climb)"
   ]
  },
  {
   "cell_type": "markdown",
   "metadata": {},
   "source": [
    "## Visualize the run\n",
    "First we plot an elevtion profile as a function of distance using matplotlib. This is where our additional DataFrame column containing the accumulated distance comes in handy."
   ]
  },
  {
   "cell_type": "code",
   "execution_count": 8,
   "metadata": {},
   "outputs": [
    {
     "data": {
      "image/png": "[encoded data removed]",
      "text/plain": [
       "<matplotlib.figure.Figure at 0x109602780>"
      ]
     },
     "metadata": {},
     "output_type": "display_data"
    }
   ],
   "source": [
    "# Plot height profile and calculate total climb\n",
    "plt.plot(df['accuDist'],3.28084*df['elev'], 'r')\n",
    "plt.ylabel('elevation (ft)')\n",
    "plt.xlabel('distance (mi)')\n",
    "plt.show()"
   ]
  },
  {
   "cell_type": "markdown",
   "metadata": {},
   "source": [
    "Next we want to make a plot showing the current pace as a function of distance. The is a little more involved than the elevation profile because the current pace is not readiy available in the DataFrame. First we calculate the pace for each interval between two waypoints (that's pace_hist). \n",
    "\n",
    "Since the waypoints are only a few seconds apart, the data a very noisy (you can tell from the grey trace in the below plot). We reduce the noise by removing spikes and taking a running average using numpy's convolve method. These data are shown as a red trace in the plot (the remaining spikes are real: I did actually slow down). The blue line indicates the average pace of the whole run."
   ]
  },
  {
   "cell_type": "code",
   "execution_count": 14,
   "metadata": {},
   "outputs": [
    {
     "data": {
      "image/png": "[encoded data removed]",
      "text/plain": [
       "<matplotlib.figure.Figure at 0x10985c588>"
      ]
     },
     "metadata": {},
     "output_type": "display_data"
    }
   ],
   "source": [
    "# Calculate current pace\n",
    "\n",
    "# pace_hist is a list of paces between two points each\n",
    "pace_hist=[]\n",
    "for i, row in df[1:].iterrows():\n",
    "    time_diff = df.iloc[i]['time']-df.iloc[i-1]['time']\n",
    "    pos_diff  = df.iloc[i]['accuDist']-df.iloc[i-1]['accuDist']\n",
    "    curr_pace = time_diff.seconds / pos_diff\n",
    "    pace_hist.append(curr_pace/60)\n",
    "    \n",
    "# remove spikes (if a value is more than spike_tolerace times larger than the mean of the surrounding values)\n",
    "spike_tolerance = 1.3\n",
    "pace_hist_nospikes = copy.copy(pace_hist)\n",
    "for i in range(len(pace_hist_nospikes)):\n",
    "    if i>1 and i<(len(pace_hist_nospikes)-2):\n",
    "        if pace_hist_nospikes[i] > spike_tolerance * np.mean([pace_hist_nospikes[i-2],pace_hist_nospikes[i-1],pace_hist_nospikes[i+1],pace_hist_nospikes[i+2]]):\n",
    "            pace_hist_nospikes[i] = np.mean([pace_hist_nospikes[i-2],pace_hist_nospikes[i+2]])\n",
    "        \n",
    "        \n",
    "# running average of pace (without spikes), N is width of average    \n",
    "N = 23 # N must be 2n+1\n",
    "pace_hist_binned = np.convolve(pace_hist_nospikes, np.ones((N,))/N, mode='valid')\n",
    "    \n",
    "# Plot original pace trace in grey and spike-removed, averaged trace in red\n",
    "plt.plot(df['accuDist'][1:],pace_hist,'#dddddd')\n",
    "plt.plot(df['accuDist'][1+int((N-1)/2):-int((N-1)/2)],pace_hist_binned,'r')\n",
    "plt.plot(df['accuDist'][1:],[avg_pace/60 for i in range(len(df['accuDist'][1:]))],'b')\n",
    "plt.ylabel('pace (min per mi)')\n",
    "plt.xlabel('distance (mi)')\n",
    "plt.ylim(6,10)\n",
    "#plt.xlim(2,4)\n",
    "plt.show()\n"
   ]
  },
  {
   "cell_type": "markdown",
   "metadata": {},
   "source": [
    "It's interesting to note that the average pace is substantially influenced by the 'slow' spikes!\n",
    "\n",
    "Next, we plot a map of the run in which the local elevation is represented by a color map. This allows us to locate uphill and downhill portions of the run."
   ]
  },
  {
   "cell_type": "code",
   "execution_count": 10,
   "metadata": {},
   "outputs": [
    {
     "data": {
      "image/png": "[encoded data removed]",
      "text/plain": [
       "<matplotlib.figure.Figure at 0x1094c7470>"
      ]
     },
     "metadata": {},
     "output_type": "display_data"
    }
   ],
   "source": [
    "# Plot running path\n",
    "plt.scatter(df['lon'],df['lat'],c=df['elev'], cmap=terrain)\n",
    "plt.gca().set_aspect('equal', adjustable='box')\n",
    "plt.colorbar().set_label('Elevation (ft)')\n",
    "plt.xlabel('longitude')\n",
    "plt.ylabel('latitude')\n",
    "#plt.rcParams[\"figure.figsize\"] = (10,10)\n",
    "plt.show()"
   ]
  },
  {
   "cell_type": "markdown",
   "metadata": {},
   "source": [
    "## Visualizing the run in a map\n",
    "We can also plot the run's gps trace on a map using the ipyleaflet module."
   ]
  },
  {
   "cell_type": "code",
   "execution_count": 11,
   "metadata": {
    "scrolled": true
   },
   "outputs": [
    {
     "data": {
      "application/vnd.jupyter.widget-view+json": {
       "model_id": "ca37e386495749279cb65a2d8feac656",
       "version_major": 2,
       "version_minor": 0
      },
      "text/plain": [
       "Map(basemap={'url': 'https://{s}.tile.openstreetmap.org/{z}/{x}/{y}.png', 'max_zoom': 19, 'attribution': 'Map …"
      ]
     },
     "metadata": {},
     "output_type": "display_data"
    }
   ],
   "source": [
    "center = [df['lat'].mean(),df['lon'].mean()]\n",
    "zoom = 13\n",
    "\n",
    "# Create map object\n",
    "m = lf.Map(default_tiles=lf.TileLayer(opacity=1.0), center=center, zoom=zoom)\n",
    "\n",
    "# Define start and end markers\n",
    "marker_start = lf.Marker(location=[df.loc[0,'lat'],df.loc[0,'lon']])\n",
    "marker_end = lf.Marker(location=[np.array(df['lat'])[-1],np.array(df['lon'])[-1]])\n",
    "m += marker_start\n",
    "m += marker_end\n",
    "\n",
    "# Define polyline of run trace\n",
    "run_line = list(zip(*np.array(df[['lat', 'lon']]).T))\n",
    "pl = lf.Polyline(locations=run_line, fill_opacity=0)\n",
    "m += pl\n",
    "\n",
    "m"
   ]
  },
  {
   "cell_type": "markdown",
   "metadata": {},
   "source": [
    "Instead of representing the running path with just a blue polyline, we can add more information by color-coding the running path. In this following example, the running path is visualized with markers, the color of which represents the local elevation. This gives us a sense of the terrain."
   ]
  },
  {
   "cell_type": "code",
   "execution_count": 21,
   "metadata": {},
   "outputs": [
    {
     "data": {
      "application/vnd.jupyter.widget-view+json": {
       "model_id": "47fdf79802eb4bae971a6d339066953b",
       "version_major": 2,
       "version_minor": 0
      },
      "text/plain": [
       "Map(basemap={'url': 'https://{s}.tile.openstreetmap.org/{z}/{x}/{y}.png', 'max_zoom': 19, 'attribution': 'Map …"
      ]
     },
     "metadata": {},
     "output_type": "display_data"
    }
   ],
   "source": [
    "center = [df['lat'].mean(),df['lon'].mean()]\n",
    "zoom = 13\n",
    "\n",
    "# Create map object\n",
    "m = lf.Map(default_tiles=lf.TileLayer(opacity=1.0), center=center, zoom=zoom)\n",
    "\n",
    "# Define start and end markers\n",
    "marker_start = lf.Marker(location=[df.loc[0,'lat'],df.loc[0,'lon']])\n",
    "marker_end = lf.Marker(location=[np.array(df['lat'])[-1],np.array(df['lon'])[-1]])\n",
    "m += marker_start\n",
    "m += marker_end\n",
    "\n",
    "# Scatter of run trace\n",
    "run_line = list(zip(*np.array(df[['lat', 'lon']]).T))\n",
    "circles = []\n",
    "\n",
    "for wpt in run_line[::10]:\n",
    "\n",
    "    # Determine index in df['elev'] that corresponds to the current waypoint\n",
    "    index = int( run_line.index(wpt) / len(run_line) * len(df['elev']) )\n",
    "    if index > len(df['elev']): index = 0    \n",
    "    \n",
    "    # Normalize elevation to value between 0 and 1\n",
    "    min_val, max_val = df['elev'].min(), df['elev'].max()\n",
    "    elev_percentage = (df.loc[index,'elev']-min_val ) / (max_val - min_val)\n",
    "    \n",
    "    # Get corresponding value from colormap\n",
    "    rgb_exp =elev_percentage\n",
    "    rgb=[0,0,0]\n",
    "    for i in range(3): rgb[i] = int(terrain(rgb_exp)[i]*255)\n",
    "    color_hex = \"#%02x%02x%02x\" % (rgb[0], rgb[1], rgb[2])\n",
    "    \n",
    "    # Add circle to map\n",
    "    c = lf.Circle(location=wpt, weight=1, fill_opacity=1.0, radius=60, color='black', fill_color=color_hex)\n",
    "    circles.append(c)\n",
    "    m.add_layer(c)\n",
    "\n",
    "m"
   ]
  },
  {
   "cell_type": "markdown",
   "metadata": {},
   "source": [
    "We could also use color to represent the current pace and see where I got slower and faster, respectively."
   ]
  },
  {
   "cell_type": "code",
   "execution_count": 20,
   "metadata": {},
   "outputs": [
    {
     "data": {
      "application/vnd.jupyter.widget-view+json": {
       "model_id": "d49d982453844c25a4872924f2fa7923",
       "version_major": 2,
       "version_minor": 0
      },
      "text/plain": [
       "Map(basemap={'url': 'https://{s}.tile.openstreetmap.org/{z}/{x}/{y}.png', 'max_zoom': 19, 'attribution': 'Map …"
      ]
     },
     "metadata": {},
     "output_type": "display_data"
    }
   ],
   "source": [
    "center = [df['lat'].mean(),df['lon'].mean()]\n",
    "zoom = 13\n",
    "\n",
    "# Create map object\n",
    "m = lf.Map(default_tiles=lf.TileLayer(opacity=1.0), center=center, zoom=zoom)\n",
    "\n",
    "# Define start and end markers\n",
    "marker_start = lf.Marker(location=[df.loc[0,'lat'],df.loc[0,'lon']])\n",
    "marker_end = lf.Marker(location=[np.array(df['lat'])[-1],np.array(df['lon'])[-1]])\n",
    "m += marker_start\n",
    "m += marker_end\n",
    "\n",
    "# Scatter of run trace\n",
    "run_line = list(zip(*np.array(df[['lat', 'lon']]).T)) # list of corrdinates\n",
    "circles = []\n",
    "\n",
    "for wpt in run_line[::10]:\n",
    "    \n",
    "    # Determine index in pace_hist_binned that corresponds to the current waypoint\n",
    "    index = int( run_line.index(wpt) / len(run_line) * len(pace_hist_binned) )\n",
    "    if index > len(pace_hist_binned): index = 0\n",
    "\n",
    "    # Normalize pace to value between 0 and 1 (bounds are defined via percentiles)\n",
    "    min_val, max_val = np.percentile(pace_hist_binned, 5), np.percentile(pace_hist_binned, 95)\n",
    "    pace_percentage = (pace_hist_binned[index]-min_val) / ( max_val - min_val)\n",
    "    \n",
    "    # Get corresponding value from colormap\n",
    "    rgb_exp = 1 - pace_percentage # invert color map\n",
    "    rgb=[0,0,0]\n",
    "    for i in range(3): rgb[i] = int(cool(rgb_exp)[i]*255)\n",
    "    color_hex = \"#%02x%02x%02x\" % (rgb[0], rgb[1], rgb[2])\n",
    "    \n",
    "    # Add circle to map\n",
    "    c = lf.Circle(location=wpt, weight=1, fill_opacity=1.0, radius=60, color='black', fill_color=color_hex)\n",
    "    circles.append(c)\n",
    "    m.add_layer(c)\n",
    "\n",
    "m"
   ]
  },
  {
   "cell_type": "markdown",
   "metadata": {},
   "source": [
    "In addition to color representing elevation, we can also use variable marker sizes to represent pace (where larger radii indicate slower pace). Combining this information we draw the unsurprising conclusion that I got slower running uphill and faster running downhill."
   ]
  },
  {
   "cell_type": "code",
   "execution_count": 30,
   "metadata": {},
   "outputs": [
    {
     "data": {
      "application/vnd.jupyter.widget-view+json": {
       "model_id": "f431a5079c654ff0ae625a87dc742a76",
       "version_major": 2,
       "version_minor": 0
      },
      "text/plain": [
       "Map(basemap={'url': 'https://{s}.tile.openstreetmap.org/{z}/{x}/{y}.png', 'max_zoom': 19, 'attribution': 'Map …"
      ]
     },
     "metadata": {},
     "output_type": "display_data"
    }
   ],
   "source": [
    "center = [df['lat'].mean(),df['lon'].mean()]\n",
    "zoom = 13\n",
    "\n",
    "# Create map object\n",
    "m = lf.Map(default_tiles=lf.TileLayer(opacity=1.0), center=center, zoom=zoom)\n",
    "\n",
    "# Define start and end markers\n",
    "marker_start = lf.Marker(location=[df.loc[0,'lat'],df.loc[0,'lon']])\n",
    "marker_end = lf.Marker(location=[np.array(df['lat'])[-1],np.array(df['lon'])[-1]])\n",
    "m += marker_start\n",
    "m += marker_end\n",
    "\n",
    "# Scatter of run trace\n",
    "run_line = list(zip(*np.array(df[['lat', 'lon']]).T)) # list of corrdinates\n",
    "circles = []\n",
    "\n",
    "for wpt in run_line[::10]:\n",
    "    \n",
    "    # Determine index in pace_hist_binned that corresponds to the current waypoint\n",
    "    index = int( run_line.index(wpt) / len(run_line) * len(pace_hist_binned) )\n",
    "    if index > len(pace_hist_binned): index = 0\n",
    "\n",
    "    # Normalize pace to value between 0 and 1 (bounds are defined via percentiles)\n",
    "    min_val, max_val = np.percentile(pace_hist_binned, 5), np.percentile(pace_hist_binned, 95)\n",
    "    pace_percentage = (pace_hist_binned[index]-min_val) / ( max_val - min_val)\n",
    "    pace_radius = 40 + (pace_percentage) * 80\n",
    "    \n",
    "    # Determine index in df['elev'] that corresponds to the current waypoint\n",
    "    index_elev = int( run_line.index(wpt) / len(run_line) * len(df['elev']) )\n",
    "    if index_elev > len(df['elev']): index_elev = 0    \n",
    "    \n",
    "    # Normalize elevation to value between 0 and 1\n",
    "    min_val_elev, max_val_elev = df['elev'].min(), df['elev'].max()\n",
    "    elev_percentage = (df.loc[index_elev,'elev']-min_val_elev ) / (max_val_elev - min_val_elev)\n",
    "\n",
    "    \n",
    "    # Get corresponding value from colormap\n",
    "    rgb_exp = elev_percentage # invert color map\n",
    "    rgb=[0,0,0]\n",
    "    for i in range(3): rgb[i] = int(terrain(rgb_exp)[i]*255)\n",
    "    color_hex = \"#%02x%02x%02x\" % (rgb[0], rgb[1], rgb[2])\n",
    "    \n",
    "    # Add circle to map\n",
    "    c = lf.Circle(location=wpt, weight=1, fill_opacity=1.0, radius=int(pace_radius), color='black', fill_color=color_hex)\n",
    "    circles.append(c)\n",
    "    m.add_layer(c)\n",
    "\n",
    "m"
   ]
  }
 ],
 "metadata": {
  "kernelspec": {
   "display_name": "Python 3",
   "language": "python",
   "name": "python3"
  },
  "language_info": {
   "codemirror_mode": {
    "name": "ipython",
    "version": 3
   },
   "file_extension": ".py",
   "mimetype": "text/x-python",
   "name": "python",
   "nbconvert_exporter": "python",
   "pygments_lexer": "ipython3",
   "version": "3.6.5"
  }
 },
 "nbformat": 4,
 "nbformat_minor": 2
}
