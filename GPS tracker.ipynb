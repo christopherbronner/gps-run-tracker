{
 "cells": [
  {
   "cell_type": "code",
   "execution_count": 2,
   "metadata": {
    "collapsed": true
   },
   "outputs": [],
   "source": [
    "import pandas as pd\n",
    "import gpxpy\n",
    "import gpxpy.gpx"
   ]
  },
  {
   "cell_type": "code",
   "execution_count": 7,
   "metadata": {},
   "outputs": [],
   "source": [
    "# Loads gpx file and returns data frame run\n",
    "def load_run_to_df(filename): \n",
    "    \n",
    "    # Load file into run_data using gpxpy\n",
    "    with open(filename) as f:\n",
    "        run_data = gpxpy.parse(f)\n",
    "    f.closed\n",
    "    \n",
    "    # Initialize DataFrames\n",
    "    df_dict = {'time': [],'lat': [],'lon': [],'elev': []}\n",
    "    df = pd.DataFrame(df_dict)\n",
    "    \n",
    "    \n",
    "    # Create DataFrame containing time, latitude, longitude, elevation columns\n",
    "    for track in run_data.tracks:\n",
    "        for segment in track.segments:\n",
    "            for point in segment.points:\n",
    "                df_newRow = pd.DataFrame([[point.time, point.latitude, point.longitude, point.elevation]], columns=['time','lat','lon','elev'])\n",
    "                df = df.append(df_newRow, ignore_index=True)\n",
    "                \n",
    "    return df\n",
    "\n",
    "run = load_run_to_df('RK_gpx _2017-07-19_1750.gpx')"
   ]
  },
  {
   "cell_type": "code",
   "execution_count": 48,
   "metadata": {},
   "outputs": [
    {
     "data": {
      "text/html": [
       "<div>\n",
       "<style>\n",
       "    .dataframe thead tr:only-child th {\n",
       "        text-align: right;\n",
       "    }\n",
       "\n",
       "    .dataframe thead th {\n",
       "        text-align: left;\n",
       "    }\n",
       "\n",
       "    .dataframe tbody tr th {\n",
       "        vertical-align: top;\n",
       "    }\n",
       "</style>\n",
       "<table border=\"1\" class=\"dataframe\">\n",
       "  <thead>\n",
       "    <tr style=\"text-align: right;\">\n",
       "      <th></th>\n",
       "      <th>elev</th>\n",
       "      <th>lat</th>\n",
       "      <th>lon</th>\n",
       "      <th>time</th>\n",
       "    </tr>\n",
       "  </thead>\n",
       "  <tbody>\n",
       "    <tr>\n",
       "      <th>0</th>\n",
       "      <td>66.0</td>\n",
       "      <td>37.862238</td>\n",
       "      <td>-122.259091</td>\n",
       "      <td>2017-07-20 00:50:19</td>\n",
       "    </tr>\n",
       "    <tr>\n",
       "      <th>1</th>\n",
       "      <td>66.0</td>\n",
       "      <td>37.862099</td>\n",
       "      <td>-122.259201</td>\n",
       "      <td>2017-07-20 00:50:19</td>\n",
       "    </tr>\n",
       "    <tr>\n",
       "      <th>2</th>\n",
       "      <td>65.9</td>\n",
       "      <td>37.862255</td>\n",
       "      <td>-122.259079</td>\n",
       "      <td>2017-07-20 00:50:22</td>\n",
       "    </tr>\n",
       "    <tr>\n",
       "      <th>3</th>\n",
       "      <td>65.8</td>\n",
       "      <td>37.862301</td>\n",
       "      <td>-122.259216</td>\n",
       "      <td>2017-07-20 00:50:26</td>\n",
       "    </tr>\n",
       "    <tr>\n",
       "      <th>4</th>\n",
       "      <td>65.6</td>\n",
       "      <td>37.862288</td>\n",
       "      <td>-122.259355</td>\n",
       "      <td>2017-07-20 00:50:32</td>\n",
       "    </tr>\n",
       "  </tbody>\n",
       "</table>\n",
       "</div>"
      ],
      "text/plain": [
       "   elev        lat         lon                time\n",
       "0  66.0  37.862238 -122.259091 2017-07-20 00:50:19\n",
       "1  66.0  37.862099 -122.259201 2017-07-20 00:50:19\n",
       "2  65.9  37.862255 -122.259079 2017-07-20 00:50:22\n",
       "3  65.8  37.862301 -122.259216 2017-07-20 00:50:26\n",
       "4  65.6  37.862288 -122.259355 2017-07-20 00:50:32"
      ]
     },
     "execution_count": 48,
     "metadata": {},
     "output_type": "execute_result"
    }
   ],
   "source": [
    "df.head()"
   ]
  },
  {
   "cell_type": "code",
   "execution_count": 56,
   "metadata": {},
   "outputs": [
    {
     "name": "stdout",
     "output_type": "stream",
     "text": [
      "Total distance: 6.06 mi\n"
     ]
    }
   ],
   "source": [
    "# Calculate total distance of this run\n",
    "import geopy.distance\n",
    "\n",
    "total_distance = 0\n",
    "for i, row in df[1:].iterrows():\n",
    "    prevCoord = (df.iloc[i-1]['lat'],df.iloc[i-1]['lon'])\n",
    "    currCoord = (df.iloc[i]['lat'],df.iloc[i]['lon'])\n",
    "    total_distance += geopy.distance.vincenty(prevCoord, currCoord).mi\n",
    "\n",
    "print('Total distance: %.2f mi' % total_distance)"
   ]
  }
 ],
 "metadata": {
  "kernelspec": {
   "display_name": "Python 3",
   "language": "python",
   "name": "python3"
  }
 },
 "nbformat": 4,
 "nbformat_minor": 2
}
