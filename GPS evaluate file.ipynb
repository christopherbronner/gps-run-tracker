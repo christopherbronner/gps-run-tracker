{
 "cells": [
  {
   "cell_type": "code",
   "execution_count": 7,
   "metadata": {},
   "outputs": [
    {
     "name": "stdout",
     "output_type": "stream",
     "text": [
      "The line_profiler extension is already loaded. To reload it, use:\n",
      "  %reload_ext line_profiler\n"
     ]
    }
   ],
   "source": [
    "%load_ext line_profiler"
   ]
  },
  {
   "cell_type": "code",
   "execution_count": 8,
   "metadata": {},
   "outputs": [],
   "source": [
    "import pandas as pd\n",
    "import gpxpy\n",
    "import gpxpy.gpx\n",
    "import geopy.distance\n",
    "from time import strftime\n",
    "from time import strptime\n",
    "\n",
    "# Loads gpx file and returns data frame run\n",
    "def load_run_to_df(filename): \n",
    "    \n",
    "    # Load file into run_data using gpxpy\n",
    "    with open(filename) as f:\n",
    "        run_data = gpxpy.parse(f)\n",
    "    f.closed\n",
    "    \n",
    "    # Initialize DataFrames\n",
    "    df_dict = {'time': [],'lat': [],'lon': [],'elev': []}\n",
    "    df = pd.DataFrame(df_dict)\n",
    "    \n",
    "    \n",
    "    # Create DataFrame containing time, latitude, longitude, elevation columns\n",
    "    for track in run_data.tracks:\n",
    "        for segment in track.segments:\n",
    "            for point in segment.points:\n",
    "                df_newRow = pd.DataFrame([[point.time, point.latitude, point.longitude, point.elevation]], columns=['time','lat','lon','elev'])\n",
    "                df = df.append(df_newRow, ignore_index=True)\n",
    "                \n",
    "    # Create additional column for accumulative distance\n",
    "    tmp = [0]\n",
    "    for i, row in df[1:].iterrows():\n",
    "        prevCoord = (df.iloc[i-1]['lat'],df.iloc[i-1]['lon'])\n",
    "        currCoord = (df.iloc[i]['lat'],df.iloc[i]['lon'])\n",
    "        tmp.append(tmp[-1] + geopy.distance.vincenty(prevCoord, currCoord).mi)\n",
    "    df['accuDist']=tmp\n",
    "    \n",
    "    return df\n",
    "\n",
    "\n",
    "def strfdelta(tdelta): # Reformats timedelta object to h:mm:ss\n",
    "    d = {\"days\": tdelta.days}\n",
    "    d[\"hours\"], rem = divmod(tdelta.seconds, 3600)\n",
    "    d[\"minutes\"], d[\"seconds\"] = divmod(rem, 60)\n",
    "    formatted = str(d['hours']).zfill(2) +':'+ str(d['minutes']).zfill(2) +':'+ str(d['seconds']).zfill(2)\n",
    "    return formatted\n",
    "\n",
    "def file_name_from_path(path): # returns file name from file path\n",
    "    file_name = ''\n",
    "    for i in path:\n",
    "        file_name += i\n",
    "        if i=='/':\n",
    "            file_name = ''\n",
    "    return file_name\n",
    "\n",
    "\n",
    "\n",
    "def evaluate_file(filename):\n",
    "    df = load_run_to_df(filename) # Load file into dataframe using load_run_to_df\n",
    "    \n",
    "    total_distance = df.iloc[-1]['accuDist'] # Extract total distance\n",
    "    \n",
    "    # Extract start time (is <class 'pandas._libs.tslib.Timestamp'>)\n",
    "    start_time = df.iloc[0]['time']\n",
    "    \n",
    "    # Calculate total time of this run\n",
    "    total_time_obj = df.iloc[-1]['time']-df.iloc[0]['time'] # creates timedelta object\n",
    "    total_time_formatted = strfdelta(total_time_obj)\n",
    "    \n",
    "    # Calculate average pace\n",
    "    avg_pace = total_time_obj.seconds / (total_distance*60)\n",
    "    \n",
    "    # Calculate total climb\n",
    "    total_climb=0\n",
    "    for i, row in df[1:].iterrows():\n",
    "        height_difference = 3.28084*(df.iloc[i]['elev'] - df.iloc[i-1]['elev'])\n",
    "        if height_difference>0:\n",
    "            total_climb += height_difference\n",
    "\n",
    "\n",
    "    # Return the various statistics about this run\n",
    "    stats = [file_name_from_path(filename), start_time, total_distance, total_time_formatted, avg_pace, total_climb]\n",
    "    return stats"
   ]
  },
  {
   "cell_type": "code",
   "execution_count": 9,
   "metadata": {},
   "outputs": [
    {
     "data": {
      "text/plain": [
       "['2013-07-03-190537.gpx',\n",
       " Timestamp('2013-07-03 17:05:37'),\n",
       " 13.273621597671784,\n",
       " '02:07:12',\n",
       " 9.5829159407641313,\n",
       " 816.27299199999948]"
      ]
     },
     "execution_count": 9,
     "metadata": {},
     "output_type": "execute_result"
    }
   ],
   "source": [
    "evaluate_file('./gpx data all/2013-07-03-190537.gpx')"
   ]
  },
  {
   "cell_type": "code",
   "execution_count": 11,
   "metadata": {},
   "outputs": [],
   "source": [
    "%lprun -f evaluate_file evaluate_file('./gpx data all/2013-07-03-190537.gpx')"
   ]
  }
 ],
 "metadata": {
  "kernelspec": {
   "display_name": "Python 3",
   "language": "python",
   "name": "python3"
  },
  "language_info": {
   "codemirror_mode": {
    "name": "ipython",
    "version": 3
   },
   "file_extension": ".py",
   "mimetype": "text/x-python",
   "name": "python",
   "nbconvert_exporter": "python",
   "pygments_lexer": "ipython3",
   "version": "3.6.1"
  }
 },
 "nbformat": 4,
 "nbformat_minor": 2
}
