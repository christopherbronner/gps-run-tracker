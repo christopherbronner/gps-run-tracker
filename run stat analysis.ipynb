{
 "cells": [
  {
   "cell_type": "markdown",
   "metadata": {},
   "source": [
    "# Analysis of statistics of multiple runs\n",
    "'GPS tracker.ipynb' demonstrates how we can evaluate an individual run and extract relevant metrics and visualize the run. In this notebook, we can now compare different runs using the metrics extracted from each run.\n",
    "\n",
    "First, we import a file containing the statistics for all runs (run-stats.csv). This file was produced by 'GPS multiple file anaylsis.ipynb'.\n",
    "\n",
    "The data set contains the file name, start time, total distance, total time, elevation climb and average pace of each run."
   ]
  },
  {
   "cell_type": "code",
   "execution_count": 2,
   "metadata": {
    "collapsed": true
   },
   "outputs": [],
   "source": [
    "import pandas as pd\n",
    "\n",
    "# Load run-stats.csv\n",
    "data = pd.read_csv('run-stats.csv')"
   ]
  },
  {
   "cell_type": "code",
   "execution_count": 6,
   "metadata": {},
   "outputs": [
    {
     "data": {
      "text/html": [
       "<div>\n",
       "<style>\n",
       "    .dataframe thead tr:only-child th {\n",
       "        text-align: right;\n",
       "    }\n",
       "\n",
       "    .dataframe thead th {\n",
       "        text-align: left;\n",
       "    }\n",
       "\n",
       "    .dataframe tbody tr th {\n",
       "        vertical-align: top;\n",
       "    }\n",
       "</style>\n",
       "<table border=\"1\" class=\"dataframe\">\n",
       "  <thead>\n",
       "    <tr style=\"text-align: right;\">\n",
       "      <th></th>\n",
       "      <th>Unnamed: 0</th>\n",
       "      <th>avg_pace</th>\n",
       "      <th>climb</th>\n",
       "      <th>dist</th>\n",
       "      <th>file</th>\n",
       "      <th>start</th>\n",
       "      <th>total_time</th>\n",
       "    </tr>\n",
       "  </thead>\n",
       "  <tbody>\n",
       "    <tr>\n",
       "      <th>0</th>\n",
       "      <td>0</td>\n",
       "      <td>9.198780</td>\n",
       "      <td>694.881912</td>\n",
       "      <td>9.151576</td>\n",
       "      <td>2013-04-13-172927.gpx</td>\n",
       "      <td>2013-04-13 15:29:27</td>\n",
       "      <td>01:24:11</td>\n",
       "    </tr>\n",
       "    <tr>\n",
       "      <th>1</th>\n",
       "      <td>1</td>\n",
       "      <td>9.218519</td>\n",
       "      <td>396.325472</td>\n",
       "      <td>7.839292</td>\n",
       "      <td>2013-04-18-180727.gpx</td>\n",
       "      <td>2013-04-18 16:07:27</td>\n",
       "      <td>01:12:16</td>\n",
       "    </tr>\n",
       "    <tr>\n",
       "      <th>2</th>\n",
       "      <td>2</td>\n",
       "      <td>8.349534</td>\n",
       "      <td>419.291352</td>\n",
       "      <td>5.575161</td>\n",
       "      <td>2013-04-24-173355.gpx</td>\n",
       "      <td>2013-04-24 15:33:55</td>\n",
       "      <td>00:46:33</td>\n",
       "    </tr>\n",
       "  </tbody>\n",
       "</table>\n",
       "</div>"
      ],
      "text/plain": [
       "   Unnamed: 0  avg_pace       climb      dist                   file  \\\n",
       "0           0  9.198780  694.881912  9.151576  2013-04-13-172927.gpx   \n",
       "1           1  9.218519  396.325472  7.839292  2013-04-18-180727.gpx   \n",
       "2           2  8.349534  419.291352  5.575161  2013-04-24-173355.gpx   \n",
       "\n",
       "                 start total_time  \n",
       "0  2013-04-13 15:29:27   01:24:11  \n",
       "1  2013-04-18 16:07:27   01:12:16  \n",
       "2  2013-04-24 15:33:55   00:46:33  "
      ]
     },
     "execution_count": 6,
     "metadata": {},
     "output_type": "execute_result"
    }
   ],
   "source": [
    "data.head(3)"
   ]
  },
  {
   "cell_type": "markdown",
   "metadata": {},
   "source": [
    "## Fastest runs\n",
    "Using pandas' masking and sorting functionality it is straightforward to take a look at the runs with the lowest pace (i.e. the fastest ones)."
   ]
  },
  {
   "cell_type": "code",
   "execution_count": 7,
   "metadata": {},
   "outputs": [
    {
     "data": {
      "text/html": [
       "<div>\n",
       "<style>\n",
       "    .dataframe thead tr:only-child th {\n",
       "        text-align: right;\n",
       "    }\n",
       "\n",
       "    .dataframe thead th {\n",
       "        text-align: left;\n",
       "    }\n",
       "\n",
       "    .dataframe tbody tr th {\n",
       "        vertical-align: top;\n",
       "    }\n",
       "</style>\n",
       "<table border=\"1\" class=\"dataframe\">\n",
       "  <thead>\n",
       "    <tr style=\"text-align: right;\">\n",
       "      <th></th>\n",
       "      <th>Unnamed: 0</th>\n",
       "      <th>avg_pace</th>\n",
       "      <th>climb</th>\n",
       "      <th>dist</th>\n",
       "      <th>file</th>\n",
       "      <th>start</th>\n",
       "      <th>total_time</th>\n",
       "    </tr>\n",
       "  </thead>\n",
       "  <tbody>\n",
       "    <tr>\n",
       "      <th>100</th>\n",
       "      <td>100</td>\n",
       "      <td>6.830311</td>\n",
       "      <td>62.007876</td>\n",
       "      <td>1.751994</td>\n",
       "      <td>2014-06-15-135143.gpx</td>\n",
       "      <td>2014-06-15 11:51:43</td>\n",
       "      <td>00:11:58</td>\n",
       "    </tr>\n",
       "    <tr>\n",
       "      <th>389</th>\n",
       "      <td>389</td>\n",
       "      <td>7.430194</td>\n",
       "      <td>452.755920</td>\n",
       "      <td>13.227560</td>\n",
       "      <td>2018-03-04-070016.gpx</td>\n",
       "      <td>2018-03-04 15:00:16</td>\n",
       "      <td>01:38:17</td>\n",
       "    </tr>\n",
       "    <tr>\n",
       "      <th>107</th>\n",
       "      <td>107</td>\n",
       "      <td>7.799136</td>\n",
       "      <td>702.755928</td>\n",
       "      <td>6.242144</td>\n",
       "      <td>2014-07-10-191710.gpx</td>\n",
       "      <td>2014-07-10 17:17:10</td>\n",
       "      <td>00:48:41</td>\n",
       "    </tr>\n",
       "  </tbody>\n",
       "</table>\n",
       "</div>"
      ],
      "text/plain": [
       "     Unnamed: 0  avg_pace       climb       dist                   file  \\\n",
       "100         100  6.830311   62.007876   1.751994  2014-06-15-135143.gpx   \n",
       "389         389  7.430194  452.755920  13.227560  2018-03-04-070016.gpx   \n",
       "107         107  7.799136  702.755928   6.242144  2014-07-10-191710.gpx   \n",
       "\n",
       "                   start total_time  \n",
       "100  2014-06-15 11:51:43   00:11:58  \n",
       "389  2018-03-04 15:00:16   01:38:17  \n",
       "107  2014-07-10 17:17:10   00:48:41  "
      ]
     },
     "execution_count": 7,
     "metadata": {},
     "output_type": "execute_result"
    }
   ],
   "source": [
    "# Remove cycling assuming pace < min_pace or mileage over max_dist\n",
    "min_pace = 6\n",
    "max_dist = 26\n",
    "\n",
    "data_running = data[(data['dist']<max_dist) & (data['avg_pace']>min_pace)]\n",
    "data_running.sort_values(by=['avg_pace'], ascending=True).head(3)"
   ]
  },
  {
   "cell_type": "markdown",
   "metadata": {},
   "source": [
    "In following plot we can quickly see that pace has been relatively stable over the last couple of years but has recently gone down a little (I'm training for the San Francisco Marathon!)."
   ]
  },
  {
   "cell_type": "code",
   "execution_count": 8,
   "metadata": {},
   "outputs": [
    {
     "data": {
      "image/png": "[encoded data removed]",
      "text/plain": [
       "<matplotlib.figure.Figure at 0x106ed0a20>"
      ]
     },
     "metadata": {},
     "output_type": "display_data"
    }
   ],
   "source": [
    "import matplotlib.pyplot as plt\n",
    "x = data_running.index.values.tolist()\n",
    "plt.scatter(x,data_running['avg_pace'])\n",
    "plt.ylim(6,12)\n",
    "plt.show()"
   ]
  },
  {
   "cell_type": "markdown",
   "metadata": {},
   "source": [
    "## Longest runs\n",
    "Next we can look at the longest runs"
   ]
  },
  {
   "cell_type": "code",
   "execution_count": 10,
   "metadata": {},
   "outputs": [
    {
     "data": {
      "text/html": [
       "<div>\n",
       "<style>\n",
       "    .dataframe thead tr:only-child th {\n",
       "        text-align: right;\n",
       "    }\n",
       "\n",
       "    .dataframe thead th {\n",
       "        text-align: left;\n",
       "    }\n",
       "\n",
       "    .dataframe tbody tr th {\n",
       "        vertical-align: top;\n",
       "    }\n",
       "</style>\n",
       "<table border=\"1\" class=\"dataframe\">\n",
       "  <thead>\n",
       "    <tr style=\"text-align: right;\">\n",
       "      <th></th>\n",
       "      <th>Unnamed: 0</th>\n",
       "      <th>avg_pace</th>\n",
       "      <th>climb</th>\n",
       "      <th>dist</th>\n",
       "      <th>file</th>\n",
       "      <th>start</th>\n",
       "      <th>total_time</th>\n",
       "    </tr>\n",
       "  </thead>\n",
       "  <tbody>\n",
       "    <tr>\n",
       "      <th>380</th>\n",
       "      <td>380</td>\n",
       "      <td>10.272756</td>\n",
       "      <td>421.587940</td>\n",
       "      <td>17.004525</td>\n",
       "      <td>2018-02-10-080317.gpx</td>\n",
       "      <td>2018-02-10 16:03:17</td>\n",
       "      <td>02:54:41</td>\n",
       "    </tr>\n",
       "    <tr>\n",
       "      <th>44</th>\n",
       "      <td>44</td>\n",
       "      <td>10.266963</td>\n",
       "      <td>568.897656</td>\n",
       "      <td>16.207325</td>\n",
       "      <td>2013-09-01-160310.gpx</td>\n",
       "      <td>2013-09-01 16:03:10</td>\n",
       "      <td>02:46:24</td>\n",
       "    </tr>\n",
       "    <tr>\n",
       "      <th>417</th>\n",
       "      <td>417</td>\n",
       "      <td>9.178240</td>\n",
       "      <td>321.194236</td>\n",
       "      <td>15.562170</td>\n",
       "      <td>2018-05-19-075700.gpx</td>\n",
       "      <td>2018-05-19 14:57:00</td>\n",
       "      <td>02:22:50</td>\n",
       "    </tr>\n",
       "  </tbody>\n",
       "</table>\n",
       "</div>"
      ],
      "text/plain": [
       "     Unnamed: 0   avg_pace       climb       dist                   file  \\\n",
       "380         380  10.272756  421.587940  17.004525  2018-02-10-080317.gpx   \n",
       "44           44  10.266963  568.897656  16.207325  2013-09-01-160310.gpx   \n",
       "417         417   9.178240  321.194236  15.562170  2018-05-19-075700.gpx   \n",
       "\n",
       "                   start total_time  \n",
       "380  2018-02-10 16:03:17   02:54:41  \n",
       "44   2013-09-01 16:03:10   02:46:24  \n",
       "417  2018-05-19 14:57:00   02:22:50  "
      ]
     },
     "execution_count": 10,
     "metadata": {},
     "output_type": "execute_result"
    }
   ],
   "source": [
    "# Remove cycling assuming pace < min_pace or mileage over max_dist\n",
    "min_pace = 6\n",
    "max_dist = 26\n",
    "\n",
    "data_running = data[(data['dist']<max_dist) & (data['avg_pace']>min_pace)]\n",
    "data_running.sort_values(by=['dist'], ascending=False).head(3)"
   ]
  },
  {
   "cell_type": "markdown",
   "metadata": {},
   "source": [
    "We can also look at a histogram to see what are the running distances that occur the most often. Evidently, most runs are 6-mile runs."
   ]
  },
  {
   "cell_type": "code",
   "execution_count": 11,
   "metadata": {},
   "outputs": [
    {
     "data": {
      "image/png": "[encoded data removed]",
      "text/plain": [
       "<matplotlib.figure.Figure at 0x107a0a9b0>"
      ]
     },
     "metadata": {},
     "output_type": "display_data"
    }
   ],
   "source": [
    "import matplotlib.pyplot as plt\n",
    "\n",
    "data_running['dist'].hist(bins=50)\n",
    "plt.ylim(0,100)\n",
    "plt.show()"
   ]
  },
  {
   "cell_type": "markdown",
   "metadata": {},
   "source": [
    "## Fastest half marathons\n",
    "The list below looks specifically at half marathons (runs with distances between 13.1 and 13.9 miles) and shows the fastest ones."
   ]
  },
  {
   "cell_type": "code",
   "execution_count": 13,
   "metadata": {},
   "outputs": [
    {
     "data": {
      "text/html": [
       "<div>\n",
       "<style>\n",
       "    .dataframe thead tr:only-child th {\n",
       "        text-align: right;\n",
       "    }\n",
       "\n",
       "    .dataframe thead th {\n",
       "        text-align: left;\n",
       "    }\n",
       "\n",
       "    .dataframe tbody tr th {\n",
       "        vertical-align: top;\n",
       "    }\n",
       "</style>\n",
       "<table border=\"1\" class=\"dataframe\">\n",
       "  <thead>\n",
       "    <tr style=\"text-align: right;\">\n",
       "      <th></th>\n",
       "      <th>Unnamed: 0</th>\n",
       "      <th>avg_pace</th>\n",
       "      <th>climb</th>\n",
       "      <th>dist</th>\n",
       "      <th>file</th>\n",
       "      <th>start</th>\n",
       "      <th>total_time</th>\n",
       "    </tr>\n",
       "  </thead>\n",
       "  <tbody>\n",
       "    <tr>\n",
       "      <th>389</th>\n",
       "      <td>389</td>\n",
       "      <td>7.430194</td>\n",
       "      <td>452.755920</td>\n",
       "      <td>13.227560</td>\n",
       "      <td>2018-03-04-070016.gpx</td>\n",
       "      <td>2018-03-04 15:00:16</td>\n",
       "      <td>01:38:17</td>\n",
       "    </tr>\n",
       "    <tr>\n",
       "      <th>384</th>\n",
       "      <td>384</td>\n",
       "      <td>7.902291</td>\n",
       "      <td>211.942264</td>\n",
       "      <td>13.105904</td>\n",
       "      <td>2018-02-17-085727.gpx</td>\n",
       "      <td>2018-02-17 16:57:27</td>\n",
       "      <td>01:43:34</td>\n",
       "    </tr>\n",
       "    <tr>\n",
       "      <th>319</th>\n",
       "      <td>319</td>\n",
       "      <td>8.273259</td>\n",
       "      <td>268.044628</td>\n",
       "      <td>13.114542</td>\n",
       "      <td>2017-05-27-080902.gpx</td>\n",
       "      <td>2017-05-27 15:09:02</td>\n",
       "      <td>01:48:30</td>\n",
       "    </tr>\n",
       "  </tbody>\n",
       "</table>\n",
       "</div>"
      ],
      "text/plain": [
       "     Unnamed: 0  avg_pace       climb       dist                   file  \\\n",
       "389         389  7.430194  452.755920  13.227560  2018-03-04-070016.gpx   \n",
       "384         384  7.902291  211.942264  13.105904  2018-02-17-085727.gpx   \n",
       "319         319  8.273259  268.044628  13.114542  2017-05-27-080902.gpx   \n",
       "\n",
       "                   start total_time  \n",
       "389  2018-03-04 15:00:16   01:38:17  \n",
       "384  2018-02-17 16:57:27   01:43:34  \n",
       "319  2017-05-27 15:09:02   01:48:30  "
      ]
     },
     "execution_count": 13,
     "metadata": {},
     "output_type": "execute_result"
    }
   ],
   "source": [
    "# Fastest half marathons\n",
    "hm = data_running[(data_running['dist']>13.1) & (data_running['dist']<13.9)]\n",
    "hm.sort_values(by=['total_time'], ascending=True).head(3)"
   ]
  }
 ],
 "metadata": {
  "kernelspec": {
   "display_name": "Python 3",
   "language": "python",
   "name": "python3"
  },
  "language_info": {
   "codemirror_mode": {
    "name": "ipython",
    "version": 3
   },
   "file_extension": ".py",
   "mimetype": "text/x-python",
   "name": "python",
   "nbconvert_exporter": "python",
   "pygments_lexer": "ipython3",
   "version": "3.6.5"
  }
 },
 "nbformat": 4,
 "nbformat_minor": 2
}
