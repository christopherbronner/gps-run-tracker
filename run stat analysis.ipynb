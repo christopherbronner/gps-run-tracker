{
 "cells": [
  {
   "cell_type": "code",
   "execution_count": 2,
   "metadata": {
    "collapsed": true
   },
   "outputs": [],
   "source": [
    "import pandas as pd\n",
    "\n",
    "# Load run-stats.csv\n",
    "data = pd.read_csv('run-stats.csv')"
   ]
  },
  {
   "cell_type": "code",
   "execution_count": 4,
   "metadata": {},
   "outputs": [
    {
     "data": {
      "text/html": [
       "<div>\n",
       "<style>\n",
       "    .dataframe thead tr:only-child th {\n",
       "        text-align: right;\n",
       "    }\n",
       "\n",
       "    .dataframe thead th {\n",
       "        text-align: left;\n",
       "    }\n",
       "\n",
       "    .dataframe tbody tr th {\n",
       "        vertical-align: top;\n",
       "    }\n",
       "</style>\n",
       "<table border=\"1\" class=\"dataframe\">\n",
       "  <thead>\n",
       "    <tr style=\"text-align: right;\">\n",
       "      <th></th>\n",
       "      <th>Unnamed: 0</th>\n",
       "      <th>avg_pace</th>\n",
       "      <th>climb</th>\n",
       "      <th>dist</th>\n",
       "      <th>file</th>\n",
       "      <th>start</th>\n",
       "      <th>total_time</th>\n",
       "    </tr>\n",
       "  </thead>\n",
       "  <tbody>\n",
       "    <tr>\n",
       "      <th>0</th>\n",
       "      <td>0</td>\n",
       "      <td>9.198780</td>\n",
       "      <td>694.881912</td>\n",
       "      <td>9.151576</td>\n",
       "      <td>2013-04-13-172927.gpx</td>\n",
       "      <td>2013-04-13 15:29:27</td>\n",
       "      <td>01:24:11</td>\n",
       "    </tr>\n",
       "    <tr>\n",
       "      <th>1</th>\n",
       "      <td>1</td>\n",
       "      <td>9.218519</td>\n",
       "      <td>396.325472</td>\n",
       "      <td>7.839292</td>\n",
       "      <td>2013-04-18-180727.gpx</td>\n",
       "      <td>2013-04-18 16:07:27</td>\n",
       "      <td>01:12:16</td>\n",
       "    </tr>\n",
       "    <tr>\n",
       "      <th>2</th>\n",
       "      <td>2</td>\n",
       "      <td>8.349534</td>\n",
       "      <td>419.291352</td>\n",
       "      <td>5.575161</td>\n",
       "      <td>2013-04-24-173355.gpx</td>\n",
       "      <td>2013-04-24 15:33:55</td>\n",
       "      <td>00:46:33</td>\n",
       "    </tr>\n",
       "  </tbody>\n",
       "</table>\n",
       "</div>"
      ],
      "text/plain": [
       "   Unnamed: 0  avg_pace       climb      dist                   file  \\\n",
       "0           0  9.198780  694.881912  9.151576  2013-04-13-172927.gpx   \n",
       "1           1  9.218519  396.325472  7.839292  2013-04-18-180727.gpx   \n",
       "2           2  8.349534  419.291352  5.575161  2013-04-24-173355.gpx   \n",
       "\n",
       "                 start total_time  \n",
       "0  2013-04-13 15:29:27   01:24:11  \n",
       "1  2013-04-18 16:07:27   01:12:16  \n",
       "2  2013-04-24 15:33:55   00:46:33  "
      ]
     },
     "execution_count": 4,
     "metadata": {},
     "output_type": "execute_result"
    }
   ],
   "source": [
    "data.head(3)"
   ]
  },
  {
   "cell_type": "code",
   "execution_count": 6,
   "metadata": {},
   "outputs": [
    {
     "data": {
      "text/html": [
       "<div>\n",
       "<style>\n",
       "    .dataframe thead tr:only-child th {\n",
       "        text-align: right;\n",
       "    }\n",
       "\n",
       "    .dataframe thead th {\n",
       "        text-align: left;\n",
       "    }\n",
       "\n",
       "    .dataframe tbody tr th {\n",
       "        vertical-align: top;\n",
       "    }\n",
       "</style>\n",
       "<table border=\"1\" class=\"dataframe\">\n",
       "  <thead>\n",
       "    <tr style=\"text-align: right;\">\n",
       "      <th></th>\n",
       "      <th>Unnamed: 0</th>\n",
       "      <th>avg_pace</th>\n",
       "      <th>climb</th>\n",
       "      <th>dist</th>\n",
       "      <th>file</th>\n",
       "      <th>start</th>\n",
       "      <th>total_time</th>\n",
       "    </tr>\n",
       "  </thead>\n",
       "  <tbody>\n",
       "    <tr>\n",
       "      <th>380</th>\n",
       "      <td>380</td>\n",
       "      <td>10.272756</td>\n",
       "      <td>421.587940</td>\n",
       "      <td>17.004525</td>\n",
       "      <td>2018-02-10-080317.gpx</td>\n",
       "      <td>2018-02-10 16:03:17</td>\n",
       "      <td>02:54:41</td>\n",
       "    </tr>\n",
       "    <tr>\n",
       "      <th>44</th>\n",
       "      <td>44</td>\n",
       "      <td>10.266963</td>\n",
       "      <td>568.897656</td>\n",
       "      <td>16.207325</td>\n",
       "      <td>2013-09-01-160310.gpx</td>\n",
       "      <td>2013-09-01 16:03:10</td>\n",
       "      <td>02:46:24</td>\n",
       "    </tr>\n",
       "    <tr>\n",
       "      <th>417</th>\n",
       "      <td>417</td>\n",
       "      <td>9.178240</td>\n",
       "      <td>321.194236</td>\n",
       "      <td>15.562170</td>\n",
       "      <td>2018-05-19-075700.gpx</td>\n",
       "      <td>2018-05-19 14:57:00</td>\n",
       "      <td>02:22:50</td>\n",
       "    </tr>\n",
       "  </tbody>\n",
       "</table>\n",
       "</div>"
      ],
      "text/plain": [
       "     Unnamed: 0   avg_pace       climb       dist                   file  \\\n",
       "380         380  10.272756  421.587940  17.004525  2018-02-10-080317.gpx   \n",
       "44           44  10.266963  568.897656  16.207325  2013-09-01-160310.gpx   \n",
       "417         417   9.178240  321.194236  15.562170  2018-05-19-075700.gpx   \n",
       "\n",
       "                   start total_time  \n",
       "380  2018-02-10 16:03:17   02:54:41  \n",
       "44   2013-09-01 16:03:10   02:46:24  \n",
       "417  2018-05-19 14:57:00   02:22:50  "
      ]
     },
     "execution_count": 6,
     "metadata": {},
     "output_type": "execute_result"
    }
   ],
   "source": [
    "# Top 10 longest runs\n",
    "\n",
    "# Remove cycling assuming pace < min_pace or mileage over max_dist\n",
    "min_pace = 6\n",
    "max_dist = 26\n",
    "\n",
    "data_running = data[(data['dist']<max_dist) & (data['avg_pace']>min_pace)]\n",
    "data_running.sort_values(by=['dist'], ascending=False).head(3)"
   ]
  },
  {
   "cell_type": "code",
   "execution_count": 5,
   "metadata": {},
   "outputs": [
    {
     "data": {
      "image/png": "[encoded data removed]",
      "text/plain": [
       "<matplotlib.figure.Figure at 0x10dbfab70>"
      ]
     },
     "metadata": {},
     "output_type": "display_data"
    }
   ],
   "source": [
    "import matplotlib.pyplot as plt\n",
    "\n",
    "data_running['dist'].hist(bins=50)\n",
    "plt.ylim(0,100)\n",
    "plt.show()"
   ]
  },
  {
   "cell_type": "code",
   "execution_count": 7,
   "metadata": {},
   "outputs": [],
   "source": [
    "# Fastest half marathons\n",
    "hm = data_running[(data_running['dist']>13.1) & (data_running['dist']<13.9)]\n",
    "hm.sort_values(by=['total_time'], ascending=True)"
   ]
  }
 ],
 "metadata": {
  "kernelspec": {
   "display_name": "Python 3",
   "language": "python",
   "name": "python3"
  },
  "language_info": {
   "codemirror_mode": {
    "name": "ipython",
    "version": 3
   },
   "file_extension": ".py",
   "mimetype": "text/x-python",
   "name": "python",
   "nbconvert_exporter": "python",
   "pygments_lexer": "ipython3",
   "version": "3.6.1"
  }
 },
 "nbformat": 4,
 "nbformat_minor": 2
}
