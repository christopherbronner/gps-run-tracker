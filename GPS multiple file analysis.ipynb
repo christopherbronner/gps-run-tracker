{
 "cells": [
  {
   "cell_type": "code",
   "execution_count": null,
   "metadata": {
    "collapsed": true
   },
   "outputs": [],
   "source": [
    "import eval_file"
   ]
  },
  {
   "cell_type": "code",
   "execution_count": null,
   "metadata": {},
   "outputs": [],
   "source": [
    "import os\n",
    "import pandas as pd\n",
    "import time\n",
    "\n",
    "file_list = os.listdir(path='./gpx data')\n",
    "\n",
    "# Initialize dataframe for run_stats\n",
    "run_stats_Series = {'file': [], 'start': [], 'dist': [], 'total_time': [], 'avg_pace': [], 'climb': []}\n",
    "run_stats = pd.DataFrame(run_stats_Series)\n",
    "\n",
    "for file in file_list:\n",
    "    if file[0:2]=='20':\n",
    "        new_df = pd.DataFrame([eval_file.evaluate_file('./gpx data/'+file)], columns=['file','start','dist','total_time','avg_pace','climb'])\n",
    "        run_stats = run_stats.append(new_df, ignore_index=True)\n",
    "\n",
    "\n",
    "\n",
    "\n",
    "# Write new file with all the stats\n",
    "run_stats.to_csv(\"run-stats-2.csv\", encoding='utf-8')\n",
    "\n"
   ]
  }
 ],
 "metadata": {
  "kernelspec": {
   "display_name": "Python 3",
   "language": "python",
   "name": "python3"
  },
  "language_info": {
   "codemirror_mode": {
    "name": "ipython",
    "version": 3
   },
   "file_extension": ".py",
   "mimetype": "text/x-python",
   "name": "python",
   "nbconvert_exporter": "python",
   "pygments_lexer": "ipython3",
   "version": "3.6.1"
  }
 },
 "nbformat": 4,
 "nbformat_minor": 2
}
